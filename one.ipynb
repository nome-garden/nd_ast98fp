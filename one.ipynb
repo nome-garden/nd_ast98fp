{
 "cells": [
  {
   "cell_type": "code",
   "execution_count": 1,
   "id": "79d96935-3d6f-4898-9985-2e86692fb9c9",
   "metadata": {},
   "outputs": [],
   "source": [
    "import numpy as np\n",
    "import pandas as pd"
   ]
  },
  {
   "cell_type": "code",
   "execution_count": 2,
   "id": "1b96a75b-5b8d-4b16-a197-a34d7b4a27c9",
   "metadata": {},
   "outputs": [],
   "source": [
    "from astroquery.vizier import Vizier\n",
    "Vizier.ROW_LIMIT = -1 # Set to -1 to get all rows\n",
    "catalogs = Vizier.get_catalogs([\"DEBCat\"])"
   ]
  },
  {
   "cell_type": "code",
   "execution_count": 3,
   "id": "9da3dd02-ac38-4dfe-8be0-1f21a8afa1b7",
   "metadata": {},
   "outputs": [],
   "source": [
    "df = catalogs[0].to_pandas()"
   ]
  },
  {
   "cell_type": "code",
   "execution_count": 5,
   "id": "770081af-0f33-41bf-8183-6c7c58b05deb",
   "metadata": {},
   "outputs": [],
   "source": [
    "new=df[['Name','SpT1','SpT2','logM1', 'logM2']]"
   ]
  },
  {
   "cell_type": "code",
   "execution_count": null,
   "id": "3a227a54-7e93-4831-b1b4-8bb0d3224346",
   "metadata": {},
   "outputs": [],
   "source": []
  }
 ],
 "metadata": {
  "kernelspec": {
   "display_name": "Python 3 (ipykernel)",
   "language": "python",
   "name": "python3"
  },
  "language_info": {
   "codemirror_mode": {
    "name": "ipython",
    "version": 3
   },
   "file_extension": ".py",
   "mimetype": "text/x-python",
   "name": "python",
   "nbconvert_exporter": "python",
   "pygments_lexer": "ipython3",
   "version": "3.12.3"
  }
 },
 "nbformat": 4,
 "nbformat_minor": 5
}
